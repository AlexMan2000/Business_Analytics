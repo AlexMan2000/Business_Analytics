{
 "cells": [
  {
   "cell_type": "code",
   "execution_count": 1,
   "metadata": {},
   "outputs": [
    {
     "name": "stderr",
     "output_type": "stream",
     "text": [
      "\n",
      "Bad key \"text.kerning_factor\" on line 4 in\n",
      "/Users/rz26/anaconda3/lib/python3.6/site-packages/matplotlib/mpl-data/stylelib/_classic_test_patch.mplstyle.\n",
      "You probably need to get an updated matplotlibrc file from\n",
      "https://github.com/matplotlib/matplotlib/blob/v3.1.3/matplotlibrc.template\n",
      "or from the matplotlib source distribution\n"
     ]
    }
   ],
   "source": [
    "# Import necessary packages\n",
    "import sys \n",
    "import numpy as np\n",
    "import pandas as pd\n",
    "import statsmodels.api as sm\n",
    "import sklearn\n",
    "import scipy as sp\n",
    "%matplotlib inline \n",
    "import matplotlib.pyplot as plt"
   ]
  },
  {
   "cell_type": "code",
   "execution_count": 2,
   "metadata": {},
   "outputs": [
    {
     "data": {
      "text/html": [
       "<div>\n",
       "<style scoped>\n",
       "    .dataframe tbody tr th:only-of-type {\n",
       "        vertical-align: middle;\n",
       "    }\n",
       "\n",
       "    .dataframe tbody tr th {\n",
       "        vertical-align: top;\n",
       "    }\n",
       "\n",
       "    .dataframe thead th {\n",
       "        text-align: right;\n",
       "    }\n",
       "</style>\n",
       "<table border=\"1\" class=\"dataframe\">\n",
       "  <thead>\n",
       "    <tr style=\"text-align: right;\">\n",
       "      <th></th>\n",
       "      <th>LogEarning</th>\n",
       "      <th>Schooling</th>\n",
       "      <th>QoB</th>\n",
       "    </tr>\n",
       "  </thead>\n",
       "  <tbody>\n",
       "    <tr>\n",
       "      <th>count</th>\n",
       "      <td>10000.000000</td>\n",
       "      <td>10000.000000</td>\n",
       "      <td>10000.000000</td>\n",
       "    </tr>\n",
       "    <tr>\n",
       "      <th>mean</th>\n",
       "      <td>14.906823</td>\n",
       "      <td>14.837070</td>\n",
       "      <td>2.486800</td>\n",
       "    </tr>\n",
       "    <tr>\n",
       "      <th>std</th>\n",
       "      <td>3.188847</td>\n",
       "      <td>3.115285</td>\n",
       "      <td>1.117386</td>\n",
       "    </tr>\n",
       "    <tr>\n",
       "      <th>min</th>\n",
       "      <td>0.958698</td>\n",
       "      <td>1.500000</td>\n",
       "      <td>1.000000</td>\n",
       "    </tr>\n",
       "    <tr>\n",
       "      <th>25%</th>\n",
       "      <td>12.771827</td>\n",
       "      <td>13.200000</td>\n",
       "      <td>1.000000</td>\n",
       "    </tr>\n",
       "    <tr>\n",
       "      <th>50%</th>\n",
       "      <td>14.919952</td>\n",
       "      <td>13.700000</td>\n",
       "      <td>2.000000</td>\n",
       "    </tr>\n",
       "    <tr>\n",
       "      <th>75%</th>\n",
       "      <td>17.095972</td>\n",
       "      <td>16.500000</td>\n",
       "      <td>3.000000</td>\n",
       "    </tr>\n",
       "    <tr>\n",
       "      <th>max</th>\n",
       "      <td>27.932792</td>\n",
       "      <td>28.500000</td>\n",
       "      <td>4.000000</td>\n",
       "    </tr>\n",
       "  </tbody>\n",
       "</table>\n",
       "</div>"
      ],
      "text/plain": [
       "         LogEarning     Schooling           QoB\n",
       "count  10000.000000  10000.000000  10000.000000\n",
       "mean      14.906823     14.837070      2.486800\n",
       "std        3.188847      3.115285      1.117386\n",
       "min        0.958698      1.500000      1.000000\n",
       "25%       12.771827     13.200000      1.000000\n",
       "50%       14.919952     13.700000      2.000000\n",
       "75%       17.095972     16.500000      3.000000\n",
       "max       27.932792     28.500000      4.000000"
      ]
     },
     "execution_count": 2,
     "metadata": {},
     "output_type": "execute_result"
    }
   ],
   "source": [
    "df_Education  = pd.read_csv(\"Education.csv\")\n",
    "df_Education.describe()"
   ]
  },
  {
   "cell_type": "markdown",
   "metadata": {},
   "source": [
    "The data set has 3 variables:\n",
    "\n",
    "- **LogEarning $\\in\\mathbb R$:** Log of income;\n",
    "- **Schooling $\\in\\mathbb R^+$:** Length of schooling, in years;\n",
    "- **QoB $\\in\\{1,2,3,4\\}$:** Quarter of birthday.\n",
    "\n",
    "We first directly regress **LogEarning** on **Schooling**:"
   ]
  },
  {
   "cell_type": "code",
   "execution_count": 3,
   "metadata": {},
   "outputs": [
    {
     "name": "stdout",
     "output_type": "stream",
     "text": [
      "                            OLS Regression Results                            \n",
      "==============================================================================\n",
      "Dep. Variable:             LogEarning   R-squared:                       0.280\n",
      "Model:                            OLS   Adj. R-squared:                  0.280\n",
      "Method:                 Least Squares   F-statistic:                     3881.\n",
      "Date:                Sat, 17 Apr 2021   Prob (F-statistic):               0.00\n",
      "Time:                        14:51:23   Log-Likelihood:                -24145.\n",
      "No. Observations:               10000   AIC:                         4.829e+04\n",
      "Df Residuals:                    9998   BIC:                         4.831e+04\n",
      "Df Model:                           1                                         \n",
      "Covariance Type:            nonrobust                                         \n",
      "==============================================================================\n",
      "                 coef    std err          t      P>|t|      [0.025      0.975]\n",
      "------------------------------------------------------------------------------\n",
      "const          6.8755      0.132     52.196      0.000       6.617       7.134\n",
      "Schooling      0.5413      0.009     62.300      0.000       0.524       0.558\n",
      "==============================================================================\n",
      "Omnibus:                        3.744   Durbin-Watson:                   2.001\n",
      "Prob(Omnibus):                  0.154   Jarque-Bera (JB):                3.553\n",
      "Skew:                           0.011   Prob(JB):                        0.169\n",
      "Kurtosis:                       2.910   Cond. No.                         74.1\n",
      "==============================================================================\n",
      "\n",
      "Warnings:\n",
      "[1] Standard Errors assume that the covariance matrix of the errors is correctly specified.\n"
     ]
    },
    {
     "name": "stderr",
     "output_type": "stream",
     "text": [
      "/Users/rz26/anaconda3/lib/python3.6/site-packages/numpy/core/fromnumeric.py:2389: FutureWarning: Method .ptp is deprecated and will be removed in a future version. Use numpy.ptp instead.\n",
      "  return ptp(axis=axis, out=out, **kwargs)\n"
     ]
    }
   ],
   "source": [
    "# Direct OLS regression.\n",
    "\n",
    "OLS = sm.OLS(endog = df_Education['LogEarning'], exog = sm.add_constant(df_Education['Schooling']))\n",
    "result_OLS = OLS.fit()\n",
    "print(result_OLS.summary())"
   ]
  },
  {
   "cell_type": "markdown",
   "metadata": {},
   "source": [
    "As discussed above, both **Schooling** and are **LogEarning** are positively correlated with individual ability, so the simple OLS estimate is an overestimate of the true causal effect of **Schooling** on **LogEarning**. To obtain an unbiased estimate, we adopt the 2SLS. We install the ``linearmodels`` package using ``pip install linearmodels``."
   ]
  },
  {
   "cell_type": "code",
   "execution_count": 7,
   "metadata": {},
   "outputs": [
    {
     "data": {
      "text/html": [
       "<div>\n",
       "<style scoped>\n",
       "    .dataframe tbody tr th:only-of-type {\n",
       "        vertical-align: middle;\n",
       "    }\n",
       "\n",
       "    .dataframe tbody tr th {\n",
       "        vertical-align: top;\n",
       "    }\n",
       "\n",
       "    .dataframe thead th {\n",
       "        text-align: right;\n",
       "    }\n",
       "</style>\n",
       "<table border=\"1\" class=\"dataframe\">\n",
       "  <thead>\n",
       "    <tr style=\"text-align: right;\">\n",
       "      <th></th>\n",
       "      <th>LogEarning</th>\n",
       "      <th>Schooling</th>\n",
       "      <th>QoB_2</th>\n",
       "      <th>QoB_3</th>\n",
       "      <th>QoB_4</th>\n",
       "      <th>const</th>\n",
       "    </tr>\n",
       "  </thead>\n",
       "  <tbody>\n",
       "    <tr>\n",
       "      <th>0</th>\n",
       "      <td>10.896972</td>\n",
       "      <td>7.2</td>\n",
       "      <td>1</td>\n",
       "      <td>0</td>\n",
       "      <td>0</td>\n",
       "      <td>1</td>\n",
       "    </tr>\n",
       "    <tr>\n",
       "      <th>1</th>\n",
       "      <td>9.826995</td>\n",
       "      <td>13.2</td>\n",
       "      <td>1</td>\n",
       "      <td>0</td>\n",
       "      <td>0</td>\n",
       "      <td>1</td>\n",
       "    </tr>\n",
       "    <tr>\n",
       "      <th>2</th>\n",
       "      <td>14.418743</td>\n",
       "      <td>16.0</td>\n",
       "      <td>0</td>\n",
       "      <td>0</td>\n",
       "      <td>0</td>\n",
       "      <td>1</td>\n",
       "    </tr>\n",
       "    <tr>\n",
       "      <th>3</th>\n",
       "      <td>13.250130</td>\n",
       "      <td>19.0</td>\n",
       "      <td>0</td>\n",
       "      <td>0</td>\n",
       "      <td>0</td>\n",
       "      <td>1</td>\n",
       "    </tr>\n",
       "    <tr>\n",
       "      <th>4</th>\n",
       "      <td>14.373162</td>\n",
       "      <td>13.2</td>\n",
       "      <td>1</td>\n",
       "      <td>0</td>\n",
       "      <td>0</td>\n",
       "      <td>1</td>\n",
       "    </tr>\n",
       "  </tbody>\n",
       "</table>\n",
       "</div>"
      ],
      "text/plain": [
       "   LogEarning  Schooling  QoB_2  QoB_3  QoB_4  const\n",
       "0   10.896972        7.2      1      0      0      1\n",
       "1    9.826995       13.2      1      0      0      1\n",
       "2   14.418743       16.0      0      0      0      1\n",
       "3   13.250130       19.0      0      0      0      1\n",
       "4   14.373162       13.2      1      0      0      1"
      ]
     },
     "execution_count": 7,
     "metadata": {},
     "output_type": "execute_result"
    }
   ],
   "source": [
    "# 2SLS\n",
    "\n",
    "# First, we change QoB into dummy variables.\n",
    "\n",
    "df_edu = pd.get_dummies(df_Education,columns=['QoB'],drop_first=True)\n",
    "df_edu['const'] = 1 \n",
    "\n",
    "df_edu.head()"
   ]
  },
  {
   "cell_type": "code",
   "execution_count": 19,
   "metadata": {},
   "outputs": [
    {
     "name": "stdout",
     "output_type": "stream",
     "text": [
      "                            OLS Regression Results                            \n",
      "==============================================================================\n",
      "Dep. Variable:              Schooling   R-squared:                       0.008\n",
      "Model:                            OLS   Adj. R-squared:                  0.008\n",
      "Method:                 Least Squares   F-statistic:                     27.93\n",
      "Date:                Sat, 17 Apr 2021   Prob (F-statistic):           5.61e-18\n",
      "Time:                        15:52:41   Log-Likelihood:                -25510.\n",
      "No. Observations:               10000   AIC:                         5.103e+04\n",
      "Df Residuals:                    9996   BIC:                         5.106e+04\n",
      "Df Model:                           3                                         \n",
      "Covariance Type:            nonrobust                                         \n",
      "==============================================================================\n",
      "                 coef    std err          t      P>|t|      [0.025      0.975]\n",
      "------------------------------------------------------------------------------\n",
      "const         14.4964      0.062    234.909      0.000      14.375      14.617\n",
      "QoB_2          0.1416      0.087      1.624      0.104      -0.029       0.312\n",
      "QoB_3          0.5352      0.088      6.094      0.000       0.363       0.707\n",
      "QoB_4          0.7005      0.088      7.976      0.000       0.528       0.873\n",
      "==============================================================================\n",
      "Omnibus:                        0.634   Durbin-Watson:                   2.018\n",
      "Prob(Omnibus):                  0.728   Jarque-Bera (JB):                0.614\n",
      "Skew:                          -0.018   Prob(JB):                        0.736\n",
      "Kurtosis:                       3.012   Cond. No.                         4.77\n",
      "==============================================================================\n",
      "\n",
      "Warnings:\n",
      "[1] Standard Errors assume that the covariance matrix of the errors is correctly specified.\n"
     ]
    }
   ],
   "source": [
    "# Fit the first-stage OLS and have the weak instrument test.\n",
    "\n",
    "IVs = ['QoB_2','QoB_3','QoB_4']\n",
    "\n",
    "\n",
    "First_Stage = sm.OLS(endog = df_edu['Schooling'], exog = sm.add_constant(df_edu[IVs]))\n",
    "res_first_stage = First_Stage.fit()\n",
    "print(res_first_stage.summary())\n"
   ]
  },
  {
   "cell_type": "markdown",
   "metadata": {},
   "source": [
    "Based on the [weak instrument test](https://scholar.harvard.edu/files/stock/files/testing_for_weak_instruments_in_linear_iv_regression.pdf), the [F-statistic](https://en.wikipedia.org/wiki/F-test) of the first stage regression is 27.93>10, so the IVs satisfy the strong first-stage assumption. "
   ]
  },
  {
   "cell_type": "code",
   "execution_count": 20,
   "metadata": {},
   "outputs": [
    {
     "name": "stdout",
     "output_type": "stream",
     "text": [
      "                          IV-2SLS Estimation Summary                          \n",
      "==============================================================================\n",
      "Dep. Variable:             LogEarning   R-squared:                      0.2106\n",
      "Estimator:                    IV-2SLS   Adj. R-squared:                 0.2105\n",
      "No. Observations:               10000   F-statistic:                    7.4597\n",
      "Date:                Sat, Apr 17 2021   P-value (F-stat)                0.0063\n",
      "Time:                        15:56:55   Distribution:                  chi2(1)\n",
      "Cov. Estimator:                robust                                         \n",
      "                                                                              \n",
      "                             Parameter Estimates                              \n",
      "==============================================================================\n",
      "            Parameter  Std. Err.     T-stat    P-value    Lower CI    Upper CI\n",
      "------------------------------------------------------------------------------\n",
      "const          10.867     1.4796     7.3447     0.0000      7.9670      13.767\n",
      "Schooling      0.2723     0.0997     2.7312     0.0063      0.0769      0.4677\n",
      "==============================================================================\n",
      "\n",
      "Endogenous: Schooling\n",
      "Instruments: QoB_2, QoB_3, QoB_4\n",
      "Robust Covariance (Heteroskedastic)\n",
      "Debiased: False\n"
     ]
    }
   ],
   "source": [
    "# Fit a 2sls model.\n",
    "\n",
    "from linearmodels.iv import IV2SLS\n",
    "\n",
    "\n",
    "IV_model = IV2SLS(dependent = df_edu['LogEarning'],endog = df_edu['Schooling'],\\\n",
    "                  exog = df_edu['const'],instruments=df_edu[IVs])\n",
    "res_2sls = IV_model.fit()\n",
    "print(res_2sls)"
   ]
  },
  {
   "cell_type": "markdown",
   "metadata": {},
   "source": [
    "As we have seen from the 2SLS regression results, 1 year of schooling increases the earning of the individual by **27.23%**. "
   ]
  },
  {
   "cell_type": "markdown",
   "metadata": {},
   "source": [
    "<a id='section_4'></a>\n",
    "# 4. Concluding Thoughts about Instrumental Variables"
   ]
  },
  {
   "cell_type": "markdown",
   "metadata": {},
   "source": [
    "This section summarizes a few concluding thoughts about IVs.\n",
    "\n",
    "- In general, IVs are typically found where there is exogenous variation that leads to changes in the endogenous variable of interest, like those in our examples described above. \n",
    "- Exclusion restriction is generally very hard to verify, especially when one only has observational data (i.e., not experiments). The key challenge is that the researcher is unable to tell if there are some confounders that are correlated with the endogenous variable $W$ and outcome $Y$ simultaneously.\n",
    "- Variations induced by randomized experiments can often be used as an IV. Because experiments are relatively cheap for a large-scale online platform, such IV analysis is very common in the high-tech industry.\n",
    "  - Example: To measure the satisfaction from using a product, use the randomized encouragement of adopting this product as an IV.\n",
    "- **Montonicity Assumption**: $W_i(Z_i,X_i)$ is (weakly) monotonic in the same direction with respect to $Z_i$.\n",
    "  - For example, in the case of education on future learning, for each individual $i$, born in the 4th quarter always implies a longer schooling time than born in the first quarter.\n",
    "  - Sometimes, we call the estimation results using IV as **Local Average Treatment Effect (LATE)**, because it only identifies the average effect of treatment to the **compliers**, i.e., those whose treatment status is affected by the instrument in the \"right\" direction. The effect of the treatment on other subjects, **Always-takers** (they always take the treatment action independent of instruments), **Never-takers** (they never take the treatment action independent of the instruments), and **Defiers** (their treatment status is affected by the t). Examples of these 4 types of subjects in the case of randomized encouragement case:\n",
    "    - **Compliers:** Those who would adopt the new feature if encouraged, but would not adopt the new feature otherwise.\n",
    "    - **Always-takers:** Those who would adopt the new feature regardless of whether being encouraged.\n",
    "    - **Never-takers:** Those who would adopt not the new feature regardless of whether being encouraged.\n",
    "    - **Defiers:** Those who would not adopt the new feature if encouraged, but would adopt the new feature otherwise."
   ]
  },
  {
   "cell_type": "code",
   "execution_count": null,
   "metadata": {},
   "outputs": [],
   "source": []
  }
 ],
 "metadata": {
  "kernelspec": {
   "display_name": "Python 3",
   "language": "python",
   "name": "python3"
  },
  "language_info": {
   "codemirror_mode": {
    "name": "ipython",
    "version": 3
   },
   "file_extension": ".py",
   "mimetype": "text/x-python",
   "name": "python",
   "nbconvert_exporter": "python",
   "pygments_lexer": "ipython3",
   "version": "3.6.8"
  }
 },
 "nbformat": 4,
 "nbformat_minor": 2
}
